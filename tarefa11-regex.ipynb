{
 "cells": [
  {
   "cell_type": "markdown",
   "id": "7fc4aadb",
   "metadata": {},
   "source": [
    "# Tarefa 11"
   ]
  },
  {
   "cell_type": "markdown",
   "id": "b326f4f3",
   "metadata": {},
   "source": [
    "## Atividade sobre Expressões Regulares"
   ]
  },
  {
   "cell_type": "markdown",
   "id": "2ff90f04",
   "metadata": {},
   "source": [
    " ###   2.1. Definir uma expressão regular para validar um login que possua as seguintes restrições:\n",
    "\n",
    "*        2.1.1 Possuir tamanho T, onde 5 <= T <= 30;\n",
    "\n",
    "*        2.1.2 Possuir letras, números e caracteres especiais."
   ]
  },
  {
   "cell_type": "markdown",
   "id": "cfeeeffb",
   "metadata": {},
   "source": [
    "**Resposta**: ^(?=.*[a-zA-Z])(?=.*[0-9])(?=.*[\\W_]).{5,30}$"
   ]
  },
  {
   "cell_type": "markdown",
   "id": "ad1eb1fd",
   "metadata": {},
   "source": [
    "###  2.2 Definir uma expressão regular para validar uma senha que possua as seguintes restrições:\n",
    "\n",
    " *       2.2.1 Possuir tamanho T, onde 8 <= T <= 12;\n",
    " \n",
    " *       2.2.2 Possuir letras, números e caracteres especiais.\n",
    "\n",
    " *      2.2.3 Possuir pelo menos uma letra maiúscula, um número e uma caracter especial."
   ]
  },
  {
   "cell_type": "markdown",
   "id": "9261d466",
   "metadata": {},
   "source": [
    "**Resposta**: ^(?=.*[A-Z])(?=.*[0-9])(?=.*[\\W_]).{8,12}$"
   ]
  },
  {
   "cell_type": "code",
   "execution_count": 3,
   "id": "7e5fc4db",
   "metadata": {},
   "outputs": [
    {
     "name": "stdout",
     "output_type": "stream",
     "text": [
      "Testando logins:\n",
      "Login 'abc12$': válido\n",
      "Login 'abcde12345': inválido\n",
      "Login 'abc@12345': válido\n",
      "Login 'short1!': válido\n",
      "Login 'this_is_a_very_long_login123456': inválido\n",
      "\n",
      "Testando senhas:\n",
      "Senha 'Abc1234!': válido\n",
      "Senha 'Password1@': válido\n",
      "Senha 'Senha123#': válido\n",
      "Senha 'TooShort1@': válido\n",
      "Senha 'ThisIsTooLong123!': inválido\n"
     ]
    }
   ],
   "source": [
    "\n",
    "\n",
    "login_regex = re.compile(r'^(?=.*[a-zA-Z])(?=.*[0-9])(?=.*[\\W_]).{5,30}$')\n",
    "\n",
    "senha_regex = re.compile(r'^(?=.*[A-Z])(?=.*[0-9])(?=.*[\\W_]).{8,12}$')\n",
    "\n",
    "def validar_login(login):\n",
    "    return bool(login_regex.match(login))\n",
    "\n",
    "def validar_senha(senha):\n",
    "    return bool(senha_regex.match(senha))\n",
    "\n",
    "# Testes de exemplo\n",
    "logins_para_testar = [\"abc12$\", \"abcde12345\", \"abc@12345\", \"short1!\", \"this_is_a_very_long_login123456\"]\n",
    "senhas_para_testar = [\"Abc1234!\", \"Password1@\", \"Senha123#\", \"TooShort1@\", \"ThisIsTooLong123!\"]\n",
    "\n",
    "print(\"Testando logins:\")\n",
    "for login in logins_para_testar:\n",
    "    print(f\"Login '{login}': {'válido' if validar_login(login) else 'inválido'}\")\n",
    "\n",
    "print(\"\\nTestando senhas:\")\n",
    "for senha in senhas_para_testar:\n",
    "    print(f\"Senha '{senha}': {'válido' if validar_senha(senha) else 'inválido'}\")"
   ]
  },
  {
   "cell_type": "code",
   "execution_count": null,
   "id": "245d5296",
   "metadata": {},
   "outputs": [],
   "source": []
  }
 ],
 "metadata": {
  "kernelspec": {
   "display_name": "Python 3 (ipykernel)",
   "language": "python",
   "name": "python3"
  },
  "language_info": {
   "codemirror_mode": {
    "name": "ipython",
    "version": 3
   },
   "file_extension": ".py",
   "mimetype": "text/x-python",
   "name": "python",
   "nbconvert_exporter": "python",
   "pygments_lexer": "ipython3",
   "version": "3.9.18"
  }
 },
 "nbformat": 4,
 "nbformat_minor": 5
}
